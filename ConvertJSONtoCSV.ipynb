{
  "nbformat": 4,
  "nbformat_minor": 0,
  "metadata": {
    "colab": {
      "provenance": []
    },
    "kernelspec": {
      "name": "python3",
      "display_name": "Python 3"
    },
    "language_info": {
      "name": "python"
    },
    "accelerator": "GPU",
    "gpuClass": "standard"
  },
  "cells": [
    {
      "cell_type": "code",
      "source": [],
      "metadata": {
        "id": "Jj0GISG4cgKh"
      },
      "execution_count": null,
      "outputs": []
    },
    {
      "cell_type": "code",
      "source": [],
      "metadata": {
        "id": "j8nR9O_6cf2x"
      },
      "execution_count": null,
      "outputs": []
    },
    {
      "cell_type": "code",
      "source": [
        "d = pd.read_json('/content/drive/MyDrive/Electronics.json', lines=True, nrows = 200) "
      ],
      "metadata": {
        "id": "Eh43GNVQnb1k"
      },
      "execution_count": null,
      "outputs": []
    },
    {
      "cell_type": "code",
      "source": [],
      "metadata": {
        "id": "Xt4pvKa7cfFj"
      },
      "execution_count": null,
      "outputs": []
    },
    {
      "cell_type": "code",
      "source": [
        "count=1"
      ],
      "metadata": {
        "id": "pGDNx-ACi8R5"
      },
      "execution_count": null,
      "outputs": []
    },
    {
      "cell_type": "code",
      "source": [
        "for data in pd.read_json('/content/drive/MyDrive/Electronics.json', lines=True, chunksize=2000000): \n",
        "          print(data.shape)\n",
        "          count=count+1\n",
        "          path = f\"/content/drive/MyDrive/Electronics{count}.csv\"\n",
        "          data.to_csv(path)"
      ],
      "metadata": {
        "id": "10smh7JtuRni"
      },
      "execution_count": null,
      "outputs": []
    },
    {
      "cell_type": "code",
      "source": [
        "\n"
      ],
      "metadata": {
        "id": "iZkOFOUKfZc6"
      },
      "execution_count": null,
      "outputs": []
    },
    {
      "cell_type": "markdown",
      "source": [],
      "metadata": {
        "id": "KZ3QluuiYV_e"
      }
    }
  ]
}